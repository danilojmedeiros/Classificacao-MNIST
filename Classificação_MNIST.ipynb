{
 "cells": [
  {
   "cell_type": "markdown",
   "metadata": {},
   "source": [
    "## Conjunto de dados de classificação de dígitos manuscritos MNIST"
   ]
  },
  {
   "cell_type": "markdown",
   "metadata": {},
   "source": [
    "O conjunto de dados MNIST é um acrônimo que significa o conjunto de dados do Instituto Nacional de Padrões e Tecnologia Modificado.\n",
    "\n",
    "É um conjunto de dados de 60.000 pequenas imagens quadradas de 28 × 28 pixels em tons de cinza de dígitos manuscritos entre 0 e 9.\n",
    "\n",
    "A tarefa é classificar uma determinada imagem de um dígito manuscrito em uma das 10 classes que representam valores inteiros de 0 a 9, inclusive."
   ]
  },
  {
   "cell_type": "code",
   "execution_count": 56,
   "metadata": {},
   "outputs": [],
   "source": [
    "#importando as bibliotecas\n",
    "import pandas as pd\n",
    "import numpy as np\n",
    "import tensorflow as tf\n",
    "import matplotlib.pyplot as plt\n",
    "import seaborn as sns\n"
   ]
  },
  {
   "cell_type": "code",
   "execution_count": 57,
   "metadata": {},
   "outputs": [],
   "source": [
    "#carregando o dataset\n",
    "df_mnist = tf.keras.datasets.mnist\n",
    "#o conjunto de dados já possui um conjunto de dados de treinamento e teste bem definido que podemos usar\n",
    "(x_train, y_train), (x_test, y_test) = df_mnist.load_data()"
   ]
  },
  {
   "cell_type": "code",
   "execution_count": 58,
   "metadata": {},
   "outputs": [
    {
     "name": "stdout",
     "output_type": "stream",
     "text": [
      "Imagens de Treino: 60000\n",
      "Imagens de Treino: (60000, 28, 28)\n",
      "Imagens de Teste: (10000, 28, 28)\n",
      "Classes de Treino: (10000,)\n"
     ]
    }
   ],
   "source": [
    "#Verificando o shape dos dados\n",
    "print(\"Imagens de Treino:\" ,len(x_train))\n",
    "print(\"Imagens de Treino:\" ,x_train.shape)\n",
    "print(\"Imagens de Teste:\" ,x_test.shape)\n",
    "print(\"Classes de Treino:\" ,y_test.shape)"
   ]
  },
  {
   "cell_type": "code",
   "execution_count": 59,
   "metadata": {},
   "outputs": [
    {
     "data": {
      "text/plain": [
       "array([0, 1, 2, 3, 4, 5, 6, 7, 8, 9], dtype=uint8)"
      ]
     },
     "execution_count": 59,
     "metadata": {},
     "output_type": "execute_result"
    }
   ],
   "source": [
    "#quantidade de classes diferentes nas labels\n",
    "np.unique(y_train)"
   ]
  },
  {
   "cell_type": "code",
   "execution_count": 60,
   "metadata": {},
   "outputs": [
    {
     "data": {
      "image/png": "[encoded data removed]",
      "text/plain": [
       "<Figure size 432x288 with 9 Axes>"
      ]
     },
     "metadata": {
      "needs_background": "light"
     },
     "output_type": "display_data"
    }
   ],
   "source": [
    "#plotando as primeiras imagens\n",
    "for i in range(9):\n",
    "\t# definindo o subplot\n",
    "\tplt.subplot(330 + 1 + i)\n",
    "\t# plot dados de pixel\n",
    "\tplt.imshow(x_train[i], cmap=plt.get_cmap('gray'))\n",
    "# show the figure\n",
    "plt.show()"
   ]
  },
  {
   "cell_type": "markdown",
   "metadata": {},
   "source": [
    "- Podemos ver que existem 60.000 exemplos no conjunto de dados de treinamento e 10.000 no conjunto de dados de teste e que as imagens são de fato quadradas com 28×28 pixels.\n",
    "\n",
    "- Um gráfico das primeiras nove imagens no conjunto de dados também é criado, mostrando a imagem manuscrita natural das imagens."
   ]
  },
  {
   "cell_type": "code",
   "execution_count": 61,
   "metadata": {},
   "outputs": [],
   "source": [
    "#reshape do dataset para um único canal\n",
    "x_train = x_train.reshape((x_train.shape[0], 28, 28, 1)) #redefinindo o formato para 1 vetor\n",
    "x_test = x_test.reshape((x_test.shape[0], 28, 28, 1))"
   ]
  },
  {
   "cell_type": "code",
   "execution_count": 62,
   "metadata": {},
   "outputs": [
    {
     "name": "stdout",
     "output_type": "stream",
     "text": [
      "(60000, 28, 28, 1)\n",
      "(10000, 28, 28, 1)\n"
     ]
    }
   ],
   "source": [
    "#verificando a mudança\n",
    "print(x_train.shape)\n",
    "print(x_test.shape)\n"
   ]
  },
  {
   "cell_type": "code",
   "execution_count": 63,
   "metadata": {},
   "outputs": [
    {
     "name": "stdout",
     "output_type": "stream",
     "text": [
      "Máximo valor nos dados de treinamento: 255 \n",
      "Minímo valor nos dados de treinamento: 0\n",
      "Máximo valor nos dados de teste: 255 \n",
      "Mínimo valor nos dados de teste: 0\n"
     ]
    }
   ],
   "source": [
    "#Verificando o máximo e mínimo dos dados\n",
    "print('Máximo valor nos dados de treinamento:' , np.amax(x_train), '\\nMinímo valor nos dados de treinamento:', np.amin(x_train))\n",
    "print('Máximo valor nos dados de teste:', np.amax(x_test),'\\nMínimo valor nos dados de teste:', np.amin(x_test))"
   ]
  },
  {
   "cell_type": "markdown",
   "metadata": {},
   "source": [
    "Sabemos que os valores de pixel para cada imagem no conjunto de dados são inteiros entre 0 e 255.\n",
    "\n",
    "Assim, um bom ponto de partida é normalizar os valores de pixel das imagens para o intervalo entre 0 e 1. Isso envolve dividir os valores de pixel pelo valor máximo."
   ]
  },
  {
   "cell_type": "code",
   "execution_count": 64,
   "metadata": {},
   "outputs": [],
   "source": [
    "# normalizando os dados\n",
    "x_train = x_train / 255\n",
    "x_test = x_test / 255"
   ]
  },
  {
   "cell_type": "markdown",
   "metadata": {},
   "source": [
    "#### Definindo o Modelo de Rede Neural Convolucional (CNN)"
   ]
  },
  {
   "cell_type": "code",
   "execution_count": 65,
   "metadata": {},
   "outputs": [],
   "source": [
    "#definir e avaliar o modelo\n",
    "model = tf.keras.Sequential([\n",
    "                                        tf.keras.layers.Conv2D(32, (3, 3), activation='relu', input_shape=x_train.shape[1:]), #convolve a imagem usando 32 filtros e cada tamanho 3, 3\n",
    "                                        tf.keras.layers.Activation(\"relu\"),\n",
    "                                        tf.keras.layers.MaxPooling2D(pool_size=(2, 2)),#analisa diversos ângulos da imagem\n",
    "                                        tf.keras.layers.Conv2D(32, (4, 4), activation='relu'),\n",
    "                                        tf.keras.layers.MaxPooling2D(pool_size=(2, 2)),\n",
    "                                        tf.keras.layers.Flatten(),\n",
    "                                        tf.keras.layers.Dense(100, activation='relu'), #camada oculta\n",
    "                                        tf.keras.layers.Dense(10, activation='softmax') #camada oculta\n",
    "                                    ])"
   ]
  },
  {
   "cell_type": "code",
   "execution_count": 66,
   "metadata": {},
   "outputs": [],
   "source": [
    "#compilar o modelo\n",
    "model.compile(optimizer='adam', \n",
    "             loss=tf.keras.losses.SparseCategoricalCrossentropy(from_logits=True),\n",
    "             metrics=['accuracy']\n",
    "            )"
   ]
  },
  {
   "cell_type": "code",
   "execution_count": 67,
   "metadata": {},
   "outputs": [
    {
     "name": "stdout",
     "output_type": "stream",
     "text": [
      "Epoch 1/10\n"
     ]
    },
    {
     "name": "stderr",
     "output_type": "stream",
     "text": [
      "/Users/danilomedeiros/opt/anaconda3/lib/python3.9/site-packages/tensorflow/python/util/dispatch.py:1082: UserWarning: \"`sparse_categorical_crossentropy` received `from_logits=True`, but the `output` argument was produced by a sigmoid or softmax activation and thus does not represent logits. Was this intended?\"\n",
      "  return dispatch_target(*args, **kwargs)\n"
     ]
    },
    {
     "name": "stdout",
     "output_type": "stream",
     "text": [
      "1875/1875 [==============================] - 29s 15ms/step - loss: 0.1345 - accuracy: 0.9599\n",
      "Epoch 2/10\n",
      "1875/1875 [==============================] - 29s 15ms/step - loss: 0.0438 - accuracy: 0.9866\n",
      "Epoch 3/10\n",
      "1875/1875 [==============================] - 27s 14ms/step - loss: 0.0307 - accuracy: 0.9901\n",
      "Epoch 4/10\n",
      "1875/1875 [==============================] - 28s 15ms/step - loss: 0.0235 - accuracy: 0.9925\n",
      "Epoch 5/10\n",
      "1875/1875 [==============================] - 28s 15ms/step - loss: 0.0163 - accuracy: 0.9945\n",
      "Epoch 6/10\n",
      "1875/1875 [==============================] - 27s 15ms/step - loss: 0.0136 - accuracy: 0.9956\n",
      "Epoch 7/10\n",
      "1875/1875 [==============================] - 29s 15ms/step - loss: 0.0104 - accuracy: 0.9966\n",
      "Epoch 8/10\n",
      "1875/1875 [==============================] - 27s 15ms/step - loss: 0.0105 - accuracy: 0.9964\n",
      "Epoch 9/10\n",
      "1875/1875 [==============================] - 27s 14ms/step - loss: 0.0060 - accuracy: 0.9981\n",
      "Epoch 10/10\n",
      "1875/1875 [==============================] - 27s 14ms/step - loss: 0.0082 - accuracy: 0.9972\n"
     ]
    },
    {
     "data": {
      "text/plain": [
       "<keras.callbacks.History at 0x7f80dd6f5b50>"
      ]
     },
     "execution_count": 67,
     "metadata": {},
     "output_type": "execute_result"
    }
   ],
   "source": [
    "#treinando o modelo\n",
    "model.fit(x=x_train, y=y_train, epochs=10)"
   ]
  },
  {
   "cell_type": "code",
   "execution_count": 68,
   "metadata": {},
   "outputs": [
    {
     "name": "stdout",
     "output_type": "stream",
     "text": [
      "313/313 [==============================] - 1s 2ms/step - loss: 0.0385 - accuracy: 0.9901\n",
      "Acuracia do modelo no conjunto de teste: 0.9901000261306763\n"
     ]
    }
   ],
   "source": [
    "#avaliando a performance\n",
    "test_loss, test_accuracy = model.evaluate(x_test, y_test)\n",
    "print(f'Acuracia do modelo no conjunto de teste: {test_accuracy}')"
   ]
  },
  {
   "cell_type": "code",
   "execution_count": 69,
   "metadata": {},
   "outputs": [
    {
     "name": "stdout",
     "output_type": "stream",
     "text": [
      "Model: \"sequential_2\"\n",
      "_________________________________________________________________\n",
      " Layer (type)                Output Shape              Param #   \n",
      "=================================================================\n",
      " conv2d_2 (Conv2D)           (None, 26, 26, 32)        320       \n",
      "                                                                 \n",
      " activation_1 (Activation)   (None, 26, 26, 32)        0         \n",
      "                                                                 \n",
      " max_pooling2d_2 (MaxPooling  (None, 13, 13, 32)       0         \n",
      " 2D)                                                             \n",
      "                                                                 \n",
      " conv2d_3 (Conv2D)           (None, 10, 10, 32)        16416     \n",
      "                                                                 \n",
      " max_pooling2d_3 (MaxPooling  (None, 5, 5, 32)         0         \n",
      " 2D)                                                             \n",
      "                                                                 \n",
      " flatten_1 (Flatten)         (None, 800)               0         \n",
      "                                                                 \n",
      " dense_2 (Dense)             (None, 100)               80100     \n",
      "                                                                 \n",
      " dense_3 (Dense)             (None, 10)                1010      \n",
      "                                                                 \n",
      "=================================================================\n",
      "Total params: 97,846\n",
      "Trainable params: 97,846\n",
      "Non-trainable params: 0\n",
      "_________________________________________________________________\n"
     ]
    }
   ],
   "source": [
    "model.summary()"
   ]
  },
  {
   "cell_type": "markdown",
   "metadata": {},
   "source": [
    "### Matriz de Confusão"
   ]
  },
  {
   "cell_type": "code",
   "execution_count": 70,
   "metadata": {},
   "outputs": [
    {
     "name": "stdout",
     "output_type": "stream",
     "text": [
      "313/313 [==============================] - 1s 2ms/step\n"
     ]
    }
   ],
   "source": [
    "#predições\n",
    "y_probs = model.predict(x_test)\n",
    "\n",
    "#convertendo probabilidades para inteiro\n",
    "y_preds = y_probs.argmax(axis=1)"
   ]
  },
  {
   "cell_type": "code",
   "execution_count": 71,
   "metadata": {},
   "outputs": [],
   "source": [
    "#matriz de confusão\n",
    "from sklearn.metrics import confusion_matrix\n",
    "\n",
    "confusao = confusion_matrix(y_preds, y_test)"
   ]
  },
  {
   "cell_type": "code",
   "execution_count": 72,
   "metadata": {},
   "outputs": [
    {
     "data": {
      "image/png": "[encoded data removed]",
      "text/plain": [
       "<Figure size 1080x576 with 2 Axes>"
      ]
     },
     "metadata": {
      "needs_background": "light"
     },
     "output_type": "display_data"
    }
   ],
   "source": [
    "#plotando com seaborn para melhor visualização da matriz\n",
    "plt.figure(figsize = (15,8))\n",
    "sns.heatmap(confusao, annot=True, fmt='d')\n",
    "plt.title(\"Matriz de Confusão\")\n",
    "plt.show()"
   ]
  },
  {
   "cell_type": "markdown",
   "metadata": {},
   "source": [
    "Algumas observações dos maiores erros do modelo\n",
    "\n",
    "- O modelo confundiu 5 vezes os números 5 e 4 com o número 6.\n",
    "- Observamos também a confusão entre o 9 e o 4, onde o modelo errou 5 vezes. E também entre o 9 e 8, onde houve 5 erros.\n",
    "- Entre 5 e o 3, onde teve 6 erros.\n",
    "- Entre o 2 e o 7 houve 6 erros.\n",
    "\n",
    "Isso se dá pelo fato de os números serem escritos a mão, talves nem todos os números foram escritos de uma maneira que a IA entenda."
   ]
  },
  {
   "cell_type": "markdown",
   "metadata": {},
   "source": [
    "### Fazendo previsões com o modelo treinado"
   ]
  },
  {
   "cell_type": "code",
   "execution_count": 73,
   "metadata": {},
   "outputs": [],
   "source": [
    "probability_model = tf.keras.Sequential([model, tf.keras.layers.Softmax()])"
   ]
  },
  {
   "cell_type": "code",
   "execution_count": 74,
   "metadata": {},
   "outputs": [
    {
     "name": "stdout",
     "output_type": "stream",
     "text": [
      "313/313 [==============================] - 1s 2ms/step\n"
     ]
    }
   ],
   "source": [
    "predictions = probability_model.predict(x_test)"
   ]
  },
  {
   "cell_type": "code",
   "execution_count": 75,
   "metadata": {},
   "outputs": [
    {
     "data": {
      "text/plain": [
       "array([0.08533674, 0.08533674, 0.08533674, 0.08533674, 0.08533674,\n",
       "       0.08533674, 0.08533674, 0.23196931, 0.08533674, 0.08533674],\n",
       "      dtype=float32)"
      ]
     },
     "execution_count": 75,
     "metadata": {},
     "output_type": "execute_result"
    }
   ],
   "source": [
    "predictions[0]"
   ]
  },
  {
   "cell_type": "markdown",
   "metadata": {},
   "source": [
    "#### Visualização das Predições"
   ]
  },
  {
   "cell_type": "code",
   "execution_count": 76,
   "metadata": {},
   "outputs": [],
   "source": [
    "index_teste = 800"
   ]
  },
  {
   "cell_type": "code",
   "execution_count": 77,
   "metadata": {},
   "outputs": [
    {
     "data": {
      "image/png": "[encoded data removed]",
      "text/plain": [
       "<Figure size 432x288 with 2 Axes>"
      ]
     },
     "metadata": {
      "needs_background": "light"
     },
     "output_type": "display_data"
    }
   ],
   "source": [
    "# Visualizando a primeira imagem do conjunto de treinamento\n",
    "plt.figure()\n",
    "plt.imshow(x_test[index_teste], cmap='gray')\n",
    "plt.colorbar()\n",
    "plt.show()"
   ]
  },
  {
   "cell_type": "code",
   "execution_count": 78,
   "metadata": {},
   "outputs": [
    {
     "data": {
      "text/plain": [
       "array([0.08533677, 0.08533677, 0.08533677, 0.08533696, 0.08533677,\n",
       "       0.08533677, 0.0853368 , 0.08533677, 0.23196875, 0.08533681],\n",
       "      dtype=float32)"
      ]
     },
     "execution_count": 78,
     "metadata": {},
     "output_type": "execute_result"
    }
   ],
   "source": [
    "predictions[index_teste]"
   ]
  },
  {
   "cell_type": "code",
   "execution_count": 79,
   "metadata": {},
   "outputs": [
    {
     "data": {
      "text/plain": [
       "8"
      ]
     },
     "execution_count": 79,
     "metadata": {},
     "output_type": "execute_result"
    }
   ],
   "source": [
    "# O método np.argmax() retorna o indice do maior valor da lista de 10 elementos que sai do nosso modelo.\n",
    "# Com isso, podemos checar qual a label predita\n",
    "np.argmax(predictions[index_teste])"
   ]
  },
  {
   "cell_type": "code",
   "execution_count": 80,
   "metadata": {},
   "outputs": [
    {
     "name": "stdout",
     "output_type": "stream",
     "text": [
      "313/313 [==============================] - 1s 2ms/step\n"
     ]
    },
    {
     "data": {
      "text/plain": [
       "'Predicted label is: 1'"
      ]
     },
     "execution_count": 80,
     "metadata": {},
     "output_type": "execute_result"
    },
    {
     "data": {
      "image/png": "[encoded data removed]",
      "text/plain": [
       "<Figure size 432x288 with 1 Axes>"
      ]
     },
     "metadata": {
      "needs_background": "light"
     },
     "output_type": "display_data"
    }
   ],
   "source": [
    "#visualizando predições do conjunto de teste\n",
    "y_test = model.predict(x_test)\n",
    "\n",
    "y_test = np.argmax(y_test, axis=1)\n",
    "plt.imshow(x_test[2])\n",
    "f'Predicted label is: {y_test[2]}'"
   ]
  },
  {
   "cell_type": "code",
   "execution_count": 81,
   "metadata": {},
   "outputs": [
    {
     "name": "stdout",
     "output_type": "stream",
     "text": [
      "313/313 [==============================] - 1s 2ms/step\n"
     ]
    },
    {
     "data": {
      "text/plain": [
       "'Predicted label is: 3'"
      ]
     },
     "execution_count": 81,
     "metadata": {},
     "output_type": "execute_result"
    },
    {
     "data": {
      "image/png": "[encoded data removed]",
      "text/plain": [
       "<Figure size 432x288 with 1 Axes>"
      ]
     },
     "metadata": {
      "needs_background": "light"
     },
     "output_type": "display_data"
    }
   ],
   "source": [
    "y_test = model.predict(x_test)\n",
    "\n",
    "y_test = np.argmax(y_test, axis=1)\n",
    "plt.imshow(x_test[500])\n",
    "f'Predicted label is: {y_test[500]}'"
   ]
  },
  {
   "cell_type": "code",
   "execution_count": 83,
   "metadata": {},
   "outputs": [
    {
     "name": "stdout",
     "output_type": "stream",
     "text": [
      "313/313 [==============================] - 1s 2ms/step\n"
     ]
    },
    {
     "data": {
      "text/plain": [
       "'Predicted label is: 9'"
      ]
     },
     "execution_count": 83,
     "metadata": {},
     "output_type": "execute_result"
    },
    {
     "data": {
      "image/png": "[encoded data removed]",
      "text/plain": [
       "<Figure size 432x288 with 1 Axes>"
      ]
     },
     "metadata": {
      "needs_background": "light"
     },
     "output_type": "display_data"
    }
   ],
   "source": [
    "y_test = model.predict(x_test)\n",
    "\n",
    "y_test = np.argmax(y_test, axis=1)\n",
    "plt.imshow(x_test[7])\n",
    "f'Predicted label is: {y_test[7]}'"
   ]
  },
  {
   "cell_type": "markdown",
   "metadata": {},
   "source": [
    "## Conclusão"
   ]
  },
  {
   "cell_type": "markdown",
   "metadata": {},
   "source": [
    "Neste trabalho foi implementada uma rede neural convolucional para reconhecimento de dígitos utilizando o famoso dataset MNIST. A rede obteve uma alta acurácia de 99% no teste, indicando o sucesso da rede em generalizar o conhecimento aprendido do treino para amostras não vistas antes. "
   ]
  },
  {
   "cell_type": "markdown",
   "metadata": {},
   "source": []
  }
 ],
 "metadata": {
  "kernelspec": {
   "display_name": "Python 3.9.12 ('base')",
   "language": "python",
   "name": "python3"
  },
  "language_info": {
   "codemirror_mode": {
    "name": "ipython",
    "version": 3
   },
   "file_extension": ".py",
   "mimetype": "text/x-python",
   "name": "python",
   "nbconvert_exporter": "python",
   "pygments_lexer": "ipython3",
   "version": "3.9.12"
  },
  "orig_nbformat": 4,
  "vscode": {
   "interpreter": {
    "hash": "a8039bfd01482c9c478a77d00ce8bdcc221b63b36ace08d3d7ff66b7390896ef"
   }
  }
 },
 "nbformat": 4,
 "nbformat_minor": 2
}
